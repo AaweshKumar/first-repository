{
  "nbformat": 4,
  "nbformat_minor": 0,
  "metadata": {
    "colab": {
      "provenance": []
    },
    "kernelspec": {
      "name": "python3",
      "display_name": "Python 3"
    },
    "language_info": {
      "name": "python"
    }
  },
  "cells": [
    {
      "cell_type": "code",
      "source": [
        "#W.a.p to find the sum of 'n' numbers\n",
        "n=int(input(\"enter the value of n:\"))\n",
        "r=0\n",
        "for i in range(1,n+1):\n",
        "  r=r+i\n",
        "print(\"sum of\",n,'=',r)"
      ],
      "metadata": {
        "colab": {
          "base_uri": "https://localhost:8080/"
        },
        "id": "sdxVbuXNiopq",
        "outputId": "fa7e5823-7ac6-40d6-81db-ac1d4b60522a"
      },
      "execution_count": null,
      "outputs": [
        {
          "output_type": "stream",
          "name": "stdout",
          "text": [
            "enter the value of n:10\n",
            "sum of 10 = 55\n"
          ]
        }
      ]
    },
    {
      "cell_type": "code",
      "source": [
        "u=int(input(\"enter the unit consumed:\"))\n",
        "rent=200\n",
        "bamt=0.0\n",
        "if(u<=100):\n",
        "  bamt=(u*1)+rent\n",
        "elif(u>100 and u<=200):\n",
        "  bamt=(1*100)+((u-100)*1.5)+rent\n",
        "elif(u>200 and u<=350):\n",
        "  bamt=(1*100)+(1.5*100)+((u-200)*2)+rent\n",
        "else:\n",
        "  bamt=(1*100)+(1.5*100)+(2*150)+((u-350)*3)+rent\n",
        "print(\"electricity bill=\",bamt)                                                                                  "
      ],
      "metadata": {
        "colab": {
          "base_uri": "https://localhost:8080/"
        },
        "id": "1OVdcC_ZFVky",
        "outputId": "0ac750fa-c120-4381-8fa0-8611b06dc7b3"
      },
      "execution_count": null,
      "outputs": [
        {
          "output_type": "stream",
          "name": "stdout",
          "text": [
            "enter the unit consumed:100\n",
            "electricity bill= 300\n"
          ]
        }
      ]
    },
    {
      "cell_type": "code",
      "source": [
        "u=int(input(\"enter the calls consumed:\"))\n",
        "rent=350\n",
        "bamt=0.0\n",
        "if(u<=100):\n",
        "  bamt=(u*4)+rent\n",
        "elif(u>100 and u<=200):\n",
        "  bamt=(4*100)+((u-100)*4.50)+rent\n",
        "elif(u>200 and u<=350):\n",
        "  bamt=(4*100)+(4.5*100)+((u-200)*5)+rent\n",
        "else:\n",
        "  bamt=(4*100)+(4.5*100)+(5*150)+((u-350)*5.50)+rent\n",
        "print(\"electricity bill=\",bamt)  "
      ],
      "metadata": {
        "id": "NEAipOEZcPcK",
        "colab": {
          "base_uri": "https://localhost:8080/"
        },
        "outputId": "756668e2-0382-4c3e-cd89-1cde7b9838da"
      },
      "execution_count": null,
      "outputs": [
        {
          "output_type": "stream",
          "name": "stdout",
          "text": [
            "enter the calls consumed:100\n",
            "electricity bill= 750\n"
          ]
        }
      ]
    },
    {
      "cell_type": "code",
      "source": [
        "n=int(input(\"enter the value of n:\"))\n",
        "for i in range(1,n+1):\n",
        "  if(i%3==0):\n",
        "    if(i%5==0):\n",
        "      print(i,\"is divisble by 3 and 5\")\n",
        "    else:\n",
        "       print(i,\"is divisble by 3 and not by 5\")\n",
        "  else:\n",
        "    print(i,\"not divisble by 3\")"
      ],
      "metadata": {
        "id": "_mvzhlbie6RE",
        "colab": {
          "base_uri": "https://localhost:8080/"
        },
        "outputId": "66b28963-be9e-44c3-d299-0a2ad5b3760e"
      },
      "execution_count": null,
      "outputs": [
        {
          "output_type": "stream",
          "name": "stdout",
          "text": [
            "enter the value of n:16\n",
            "1 not divisble by 3\n",
            "2 not divisble by 3\n",
            "3 is divisble by 3 and not by 5\n",
            "4 not divisble by 3\n",
            "5 not divisble by 3\n",
            "6 is divisble by 3 and not by 5\n",
            "7 not divisble by 3\n",
            "8 not divisble by 3\n",
            "9 is divisble by 3 and not by 5\n",
            "10 not divisble by 3\n",
            "11 not divisble by 3\n",
            "12 is divisble by 3 and not by 5\n",
            "13 not divisble by 3\n",
            "14 not divisble by 3\n",
            "15 is divisble by 3 and 5\n",
            "16 not divisble by 3\n"
          ]
        }
      ]
    },
    {
      "cell_type": "code",
      "source": [
        "n=int(input(\"enter the value of n:\"))\n",
        "x=int(input(\"enter x:\"))\n",
        "s=0\n",
        "for i in range(0,n+1):\n",
        "  if(i%2==0):\n",
        "    s=s+(x**i)\n",
        "  else:\n",
        "    s=s-(x**i)\n",
        "print(\"the solution is:\",s)   "
      ],
      "metadata": {
        "colab": {
          "base_uri": "https://localhost:8080/"
        },
        "id": "y56Vqz_sVag3",
        "outputId": "4ac713d9-9060-4490-d01b-1030241fc804"
      },
      "execution_count": null,
      "outputs": [
        {
          "output_type": "stream",
          "name": "stdout",
          "text": [
            "enter the value of n:3\n",
            "enter x:2\n",
            "the solution is: -5\n"
          ]
        }
      ]
    },
    {
      "cell_type": "code",
      "source": [
        "n=int(input(\"enter the value of n:\"))\n",
        "x=int(input(\"enter x:\"))\n",
        "s=0\n",
        "for i in range(1,n+1):\n",
        "  s=s+((x**i)/i)\n",
        "print(\"the solution is:\",s) "
      ],
      "metadata": {
        "colab": {
          "base_uri": "https://localhost:8080/"
        },
        "id": "jzL7ZcxAYTEq",
        "outputId": "21d081b4-74bf-4ba9-9d5b-a24ce2d27d21"
      },
      "execution_count": null,
      "outputs": [
        {
          "output_type": "stream",
          "name": "stdout",
          "text": [
            "enter the value of n:3\n",
            "enter x:2\n",
            "the solution is: 6.666666666666666\n"
          ]
        }
      ]
    },
    {
      "cell_type": "code",
      "source": [
        "#w.a.p to check if a given number is palidrome or not\n",
        "n=int(input(\"Enter the value of n:\"))\n",
        "s=0\n",
        "t=n\n",
        "while(n>0):\n",
        "  r=n%10\n",
        "  s=r+(s*10)\n",
        "  n=n//10\n",
        "if(t==s):\n",
        "  print(t,\"is a palindrome number.\")\n",
        "else:\n",
        "  print(t,\"not a palindrome number.\")\n"
      ],
      "metadata": {
        "colab": {
          "base_uri": "https://localhost:8080/"
        },
        "id": "5QJ-0VsVaAdK",
        "outputId": "86dbb847-5806-49ec-9664-35c2c3e60751"
      },
      "execution_count": null,
      "outputs": [
        {
          "output_type": "stream",
          "name": "stdout",
          "text": [
            "Enter the value of n:121\n",
            "121 is a palindrome number.\n"
          ]
        }
      ]
    },
    {
      "cell_type": "code",
      "source": [
        "n=int(input(\"Enter the value of n:\"))\n",
        "s=n*n\n",
        "t=len(str(n))\n",
        "v=s%(10**t)\n",
        "if(n==v):\n",
        "  print(n,\"is an automorphic number\")\n",
        "else:\n",
        "  print(n,\"is not an automorphic number\")"
      ],
      "metadata": {
        "colab": {
          "base_uri": "https://localhost:8080/"
        },
        "id": "LJTLn580eYr8",
        "outputId": "7e4ac813-e3bd-4c37-cbae-4cd7c2db18c9"
      },
      "execution_count": null,
      "outputs": [
        {
          "output_type": "stream",
          "name": "stdout",
          "text": [
            "Enter the value of n:890625\n",
            "890625 is an automorphic number\n"
          ]
        }
      ]
    },
    {
      "cell_type": "code",
      "source": [
        "#w.a.p to find the sum of odd and even numbers for n natural numbers:\n",
        "n=int(input(\"Enter the value of n:\"))\n",
        "se=so=0\n",
        "for i in range(1,n+1):\n",
        "  if i%2==0:\n",
        "    se=se+i\n",
        "  else:\n",
        "    so=so+i\n",
        "print(\"Sum of even numbers:\",se,\"\\nSum of odd numbers:\",so)"
      ],
      "metadata": {
        "colab": {
          "base_uri": "https://localhost:8080/"
        },
        "id": "OXsTsJVgTpd8",
        "outputId": "a71fc3e6-deab-4641-81eb-cc58244438f0"
      },
      "execution_count": null,
      "outputs": [
        {
          "output_type": "stream",
          "name": "stdout",
          "text": [
            "Enter the value of n:10\n",
            "Sum of even numbers: 30 \n",
            "Sum of odd numbers: 25\n"
          ]
        }
      ]
    },
    {
      "cell_type": "code",
      "source": [
        "#w.a.p to generate fibonacci series:\n",
        "n=int(input(\"Enter the value of n:\"))\n",
        "f1=0\n",
        "f2=1\n",
        "f3=0\n",
        "print(f1,\"\\n\",f2)\n",
        "for i in range(1,n-1):\n",
        "  f3=f1+f2\n",
        "  print(f3)\n",
        "  f1=f2\n",
        "  f2=f3\n"
      ],
      "metadata": {
        "id": "tDoR3iiMWNcn",
        "colab": {
          "base_uri": "https://localhost:8080/"
        },
        "outputId": "09c26fcc-21c1-4631-8681-3c9d92b4f020"
      },
      "execution_count": null,
      "outputs": [
        {
          "output_type": "stream",
          "name": "stdout",
          "text": [
            "Enter the value of n:5\n",
            "0 \n",
            " 1\n",
            "1\n",
            "2\n",
            "3\n"
          ]
        }
      ]
    },
    {
      "cell_type": "code",
      "source": [
        "#w.a.p to check whether n is prime or not\n",
        "n=int(input(\"Enter the value of n:\"))\n",
        "fg=0\n",
        "for i in range(2,n):\n",
        "  if(n%i==0):\n",
        "    fg=0\n",
        "    break\n",
        "  else:\n",
        "    fg=1\n",
        "if(fg==0):\n",
        "  print(n,\"Is not a prime number\")\n",
        "else:\n",
        "  print(n,\"Is a prime number\")                                                                    "
      ],
      "metadata": {
        "colab": {
          "base_uri": "https://localhost:8080/"
        },
        "id": "_gOS-VTYfgzt",
        "outputId": "b709989b-e853-40d6-d98a-4fbb007c8ed6"
      },
      "execution_count": null,
      "outputs": [
        {
          "output_type": "stream",
          "name": "stdout",
          "text": [
            "Enter the value of n:2\n",
            "2 Is not a prime number\n"
          ]
        }
      ]
    },
    {
      "cell_type": "code",
      "source": [
        "#predict the o/p:\n",
        "product=1\n",
        "sum_sq=0\n",
        "for i in range(10,5,-3):\n",
        "  product*=i\n",
        "  i_sq=i**2\n",
        "  sum_sq+=i_sq\n",
        "print(\"product is=\",product)\n",
        "print(\"sum of sequence is=\",sum_sq)\n"
      ],
      "metadata": {
        "colab": {
          "base_uri": "https://localhost:8080/"
        },
        "id": "DIYUpa-_jFVf",
        "outputId": "c2b1d20b-376a-4aa9-ead4-43a06ec63b5a"
      },
      "execution_count": null,
      "outputs": [
        {
          "output_type": "stream",
          "name": "stdout",
          "text": [
            "product is= 70\n",
            "sum of sequence is= 149\n"
          ]
        }
      ]
    },
    {
      "cell_type": "code",
      "source": [
        "#practice:\n",
        "for i in range(1,10):\n",
        "  if(i==5):\n",
        "    continue\n",
        "  else:\n",
        "    print(i)\n",
        "else:\n",
        "  print(\"success\")"
      ],
      "metadata": {
        "id": "yOGUC84cky0l",
        "colab": {
          "base_uri": "https://localhost:8080/"
        },
        "outputId": "9f42671b-ac7f-48bc-d281-37b6c17e43d1"
      },
      "execution_count": null,
      "outputs": [
        {
          "output_type": "stream",
          "name": "stdout",
          "text": [
            "1\n",
            "2\n",
            "3\n",
            "4\n",
            "6\n",
            "7\n",
            "8\n",
            "9\n",
            "success\n"
          ]
        }
      ]
    },
    {
      "cell_type": "code",
      "source": [
        "#nested for loop:\n",
        "for i in range(0,2):\n",
        "  for j in range(0,2):\n",
        "    print(i,j)\n",
        "  print()"
      ],
      "metadata": {
        "id": "WQ9HjcyjMMKT",
        "colab": {
          "base_uri": "https://localhost:8080/"
        },
        "outputId": "eddfaa7d-08b5-4822-eb5a-4f2570e324ec"
      },
      "execution_count": null,
      "outputs": [
        {
          "output_type": "stream",
          "name": "stdout",
          "text": [
            "0 0\n",
            "0 1\n",
            "\n",
            "1 0\n",
            "1 1\n",
            "\n"
          ]
        }
      ]
    },
    {
      "cell_type": "code",
      "source": [
        "#nested example question:\n",
        "n=int(input(\"Enter the value of n:\"))\n",
        "for i in range(1,n+1):\n",
        "  for j in range(1,i+1):\n",
        "    print('*',end=' ')\n",
        "  print(\"\\n\")"
      ],
      "metadata": {
        "colab": {
          "base_uri": "https://localhost:8080/"
        },
        "id": "Dxd4gnRQipKH",
        "outputId": "cd801db3-10f0-4a06-d3a1-8da8bbc134bf"
      },
      "execution_count": null,
      "outputs": [
        {
          "output_type": "stream",
          "name": "stdout",
          "text": [
            "Enter the value of n:5\n",
            "* \n",
            "\n",
            "* * \n",
            "\n",
            "* * * \n",
            "\n",
            "* * * * \n",
            "\n",
            "* * * * * \n",
            "\n"
          ]
        }
      ]
    },
    {
      "cell_type": "code",
      "source": [
        "#inverse nested example question 2:\n",
        "n=int(input(\"Enter the value of n:\"))\n",
        "for i in range(n,0,-1):\n",
        "  for j in range(i,0,-1):\n",
        "    print('*',end=' ')\n",
        "  print(\"\\n\")"
      ],
      "metadata": {
        "colab": {
          "base_uri": "https://localhost:8080/"
        },
        "id": "C88rvsgOkEmK",
        "outputId": "f9ad862b-7e4c-46a2-e611-4195bbff2ba5"
      },
      "execution_count": null,
      "outputs": [
        {
          "output_type": "stream",
          "name": "stdout",
          "text": [
            "Enter the value of n:5\n",
            "* * * * * \n",
            "\n",
            "* * * * \n",
            "\n",
            "* * * \n",
            "\n",
            "* * \n",
            "\n",
            "* \n",
            "\n"
          ]
        }
      ]
    },
    {
      "cell_type": "code",
      "source": [
        "#nested example question 3:\n",
        "n=int(input(\"Enter the value of n:\"))\n",
        "for i in range(1,n+1):\n",
        "  for j in range(1,i+1):\n",
        "    print(j,end=' ')\n",
        "  print(\"\\n\")"
      ],
      "metadata": {
        "colab": {
          "base_uri": "https://localhost:8080/"
        },
        "id": "fUbFeqdilH8p",
        "outputId": "2c4298a0-282b-4a6b-8763-cf60e848ccce"
      },
      "execution_count": null,
      "outputs": [
        {
          "output_type": "stream",
          "name": "stdout",
          "text": [
            "Enter the value of n:5\n",
            "1 \n",
            "\n",
            "1 2 \n",
            "\n",
            "1 2 3 \n",
            "\n",
            "1 2 3 4 \n",
            "\n",
            "1 2 3 4 5 \n",
            "\n"
          ]
        }
      ]
    },
    {
      "cell_type": "code",
      "source": [
        "#inverse nested example question 4:\n",
        "n=int(input(\"Enter the value of n:\"))\n",
        "for i in range(n,0,-1):\n",
        "  for j in range(i,0,-1):\n",
        "    print(i,end=' ')\n",
        "  print(\"\\n\")"
      ],
      "metadata": {
        "id": "WsFABI6JmPLe",
        "colab": {
          "base_uri": "https://localhost:8080/"
        },
        "outputId": "ac93ab83-8131-4e71-fb10-7f4b869137fa"
      },
      "execution_count": null,
      "outputs": [
        {
          "output_type": "stream",
          "name": "stdout",
          "text": [
            "Enter the value of n:5\n",
            "5 5 5 5 5 \n",
            "\n",
            "4 4 4 4 \n",
            "\n",
            "3 3 3 \n",
            "\n",
            "2 2 \n",
            "\n",
            "1 \n",
            "\n"
          ]
        }
      ]
    },
    {
      "cell_type": "code",
      "source": [
        "for i in range(2,4):\n",
        "  for j in range(1,11):\n",
        "    m=i*j\n",
        "    print('\\n',i,'*',j,\"=\",m,)"
      ],
      "metadata": {
        "colab": {
          "base_uri": "https://localhost:8080/"
        },
        "id": "lhXACM5RlQ0E",
        "outputId": "63e1937b-cbfa-4ef6-c941-ae75cdb8fba0"
      },
      "execution_count": null,
      "outputs": [
        {
          "output_type": "stream",
          "name": "stdout",
          "text": [
            "\n",
            " 2 * 1 = 2\n",
            "\n",
            " 2 * 2 = 4\n",
            "\n",
            " 2 * 3 = 6\n",
            "\n",
            " 2 * 4 = 8\n",
            "\n",
            " 2 * 5 = 10\n",
            "\n",
            " 2 * 6 = 12\n",
            "\n",
            " 2 * 7 = 14\n",
            "\n",
            " 2 * 8 = 16\n",
            "\n",
            " 2 * 9 = 18\n",
            "\n",
            " 2 * 10 = 20\n",
            "\n",
            " 3 * 1 = 3\n",
            "\n",
            " 3 * 2 = 6\n",
            "\n",
            " 3 * 3 = 9\n",
            "\n",
            " 3 * 4 = 12\n",
            "\n",
            " 3 * 5 = 15\n",
            "\n",
            " 3 * 6 = 18\n",
            "\n",
            " 3 * 7 = 21\n",
            "\n",
            " 3 * 8 = 24\n",
            "\n",
            " 3 * 9 = 27\n",
            "\n",
            " 3 * 10 = 30\n"
          ]
        }
      ]
    },
    {
      "cell_type": "code",
      "source": [
        "#wap for ord function:\n",
        "n=int(input(\"Enter the value of n:\"))\n",
        "for i in range(1,n+1):\n",
        "  for j in range(65,65+i):\n",
        "    print(chr(j),end=' ')\n",
        "  print(\"\\n\")\n"
      ],
      "metadata": {
        "id": "iubHs0qDnuuB",
        "colab": {
          "base_uri": "https://localhost:8080/"
        },
        "outputId": "151bc8fe-75f3-4fe1-9971-eb694f00ccd8"
      },
      "execution_count": null,
      "outputs": [
        {
          "output_type": "stream",
          "name": "stdout",
          "text": [
            "Enter the value of n:5\n",
            "A \n",
            "\n",
            "A B \n",
            "\n",
            "A B C \n",
            "\n",
            "A B C D \n",
            "\n",
            "A B C D E \n",
            "\n"
          ]
        }
      ]
    },
    {
      "cell_type": "code",
      "source": [
        "#wap for ord function 2:\n",
        "n=int(input(\"Enter the value of n:\"))\n",
        "for i in range(n,0,-1):\n",
        "  for j in range(65,65+i):\n",
        "    print(chr(j),end=' ')\n",
        "  print(\"\\n\")"
      ],
      "metadata": {
        "colab": {
          "base_uri": "https://localhost:8080/"
        },
        "id": "-mGQA1mgmWgi",
        "outputId": "31f2eb0d-a2db-417e-9b12-92a3f6162a09"
      },
      "execution_count": null,
      "outputs": [
        {
          "output_type": "stream",
          "name": "stdout",
          "text": [
            "Enter the value of n:5\n",
            "A B C D E \n",
            "\n",
            "A B C D \n",
            "\n",
            "A B C \n",
            "\n",
            "A B \n",
            "\n",
            "A \n",
            "\n"
          ]
        }
      ]
    },
    {
      "cell_type": "code",
      "source": [
        "#w.a.p both ord function 1 and 2 combined:\n",
        "n=int(input(\"Enter the value of n:\"))\n",
        "for i in range(1,n+1):\n",
        "  for j in range(65,65+i):\n",
        "    print(chr(j),end=' ')\n",
        "  print(\"\\n\")\n",
        "for i in range(n,0,-1):\n",
        "  for j in range(65,65+i):\n",
        "    print(chr(j),end=' ')\n",
        "  print(\"\\n\")"
      ],
      "metadata": {
        "colab": {
          "base_uri": "https://localhost:8080/"
        },
        "id": "bu62K3T9ou_i",
        "outputId": "68453352-7853-4f06-9e07-a880666b7356"
      },
      "execution_count": null,
      "outputs": [
        {
          "output_type": "stream",
          "name": "stdout",
          "text": [
            "Enter the value of n:5\n",
            "A \n",
            "\n",
            "A B \n",
            "\n",
            "A B C \n",
            "\n",
            "A B C D \n",
            "\n",
            "A B C D E \n",
            "\n",
            "A B C D E \n",
            "\n",
            "A B C D \n",
            "\n",
            "A B C \n",
            "\n",
            "A B \n",
            "\n",
            "A \n",
            "\n"
          ]
        }
      ]
    },
    {
      "cell_type": "code",
      "source": [
        "n=int(input(\"Enter the value of n:\"))\n",
        "for i in range(n,0,-1):\n",
        "  for j in range(68,68-i,-1):\n",
        "    print(chr(j),end=' ')\n",
        "  print(\"\\n\")"
      ],
      "metadata": {
        "id": "ltkXVJkYVEdk",
        "colab": {
          "base_uri": "https://localhost:8080/"
        },
        "outputId": "23a40cc7-3808-4497-8e09-b90e8e0a3ec8"
      },
      "execution_count": null,
      "outputs": [
        {
          "output_type": "stream",
          "name": "stdout",
          "text": [
            "Enter the value of n:4\n",
            "D C B A \n",
            "\n",
            "D C B \n",
            "\n",
            "D C \n",
            "\n",
            "D \n",
            "\n"
          ]
        }
      ]
    },
    {
      "cell_type": "code",
      "source": [
        "#wa.a.p to check out of loop:\n",
        "i=1\n",
        "while i<=10:\n",
        "  if(i!=5):\n",
        "    print(i)\n",
        "    i+=1\n",
        "  else:\n",
        "    i+=1\n",
        "    continue\n",
        "print(\"out of loop\")\n",
        "\n"
      ],
      "metadata": {
        "id": "ZVkB8SipFbIy",
        "colab": {
          "base_uri": "https://localhost:8080/"
        },
        "outputId": "6be37096-c178-4369-b66e-db6b53b999d9"
      },
      "execution_count": null,
      "outputs": [
        {
          "output_type": "stream",
          "name": "stdout",
          "text": [
            "1\n",
            "2\n",
            "3\n",
            "4\n",
            "6\n",
            "7\n",
            "8\n",
            "9\n",
            "10\n",
            "out of loop\n"
          ]
        }
      ]
    },
    {
      "cell_type": "code",
      "source": [
        "n=int(input(\"Enter the value of n:\"))\n",
        "ch=65\n",
        "for i in range(1,n+1):\n",
        "  for j in range(1,i+1):\n",
        "    print(chr(ch),end=' ')\n",
        "    ch+=1\n",
        "  print(\"\\n\")"
      ],
      "metadata": {
        "id": "cuJTE8-LfBFu",
        "colab": {
          "base_uri": "https://localhost:8080/"
        },
        "outputId": "3be15474-582d-4e0d-f807-cab59e5808b4"
      },
      "execution_count": null,
      "outputs": [
        {
          "output_type": "stream",
          "name": "stdout",
          "text": [
            "Enter the value of n:5\n",
            "A \n",
            "\n",
            "B C \n",
            "\n",
            "D E F \n",
            "\n",
            "G H I J \n",
            "\n",
            "K L M N O \n",
            "\n"
          ]
        }
      ]
    },
    {
      "cell_type": "code",
      "source": [
        "#wap for backward indexing\n",
        "s='aryan'\n",
        "for i in range(-1,-len(s)-1,-1):\n",
        "  print(s[i])"
      ],
      "metadata": {
        "colab": {
          "base_uri": "https://localhost:8080/"
        },
        "id": "bsP0MyKu4ttb",
        "outputId": "04187a52-c29c-40d0-db33-dd6737e3923c"
      },
      "execution_count": null,
      "outputs": [
        {
          "output_type": "stream",
          "name": "stdout",
          "text": [
            "n\n",
            "a\n",
            "y\n",
            "r\n",
            "a\n"
          ]
        }
      ]
    },
    {
      "cell_type": "code",
      "source": [
        "s='python'\n",
        "s[5:2:-1]"
      ],
      "metadata": {
        "id": "gNgHPBAX6Wsx",
        "colab": {
          "base_uri": "https://localhost:8080/",
          "height": 36
        },
        "outputId": "0fb2e6f5-dce7-414a-aa78-f7742c05e758"
      },
      "execution_count": null,
      "outputs": [
        {
          "output_type": "execute_result",
          "data": {
            "text/plain": [
              "'noh'"
            ],
            "application/vnd.google.colaboratory.intrinsic+json": {
              "type": "string"
            }
          },
          "metadata": {},
          "execution_count": 6
        }
      ]
    },
    {
      "cell_type": "code",
      "source": [
        "#write a program to accept a string to count the no. of times a chr appears in a string \n",
        "s=input(\"Enter the str:\")\n",
        "chr=input(\"Enter search chr:\")\n",
        "c=0\n",
        "for i in range(len(s)):\n",
        "  if s[i]==chr:\n",
        "    c+=1\n",
        "print(chr,\"appears\",c,\"times\")\n",
        "\n"
      ],
      "metadata": {
        "id": "8xsc61j8UcWD",
        "colab": {
          "base_uri": "https://localhost:8080/"
        },
        "outputId": "fae1bfac-d5ca-425a-c6d9-f57fab2749c7"
      },
      "execution_count": null,
      "outputs": [
        {
          "output_type": "stream",
          "name": "stdout",
          "text": [
            "Enter the str:manam\n",
            "Enter search chr:a\n",
            "a appears 2 times\n"
          ]
        }
      ]
    },
    {
      "cell_type": "code",
      "source": [
        "s=input(\"Enter the string:\")\n",
        "t=0\n",
        "s1=0\n",
        "for i in range(len(s)):\n",
        "  if s[i].isdigit()==True:\n",
        "    t=int(s[i])\n",
        "    s1=t+s1\n",
        "print('sum of digits=',s1)\n"
      ],
      "metadata": {
        "colab": {
          "base_uri": "https://localhost:8080/"
        },
        "id": "GeCTOMsG74TE",
        "outputId": "9f9f5909-4ad0-4184-a720-fc5f57f1d31b"
      },
      "execution_count": null,
      "outputs": [
        {
          "output_type": "stream",
          "name": "stdout",
          "text": [
            "Enter the string:ac12ac56\n",
            "sum of digits= 14\n"
          ]
        }
      ]
    },
    {
      "cell_type": "code",
      "source": [
        "l3=[1,2,3,[0,23,33,44,[10,101,110]],21,24,43]\n",
        "l3[3][4][2]\n"
      ],
      "metadata": {
        "id": "5H3r7Ddg-x_V",
        "colab": {
          "base_uri": "https://localhost:8080/"
        },
        "outputId": "f9af976c-4a6a-4d73-bd01-06f4df167fac"
      },
      "execution_count": null,
      "outputs": [
        {
          "output_type": "execute_result",
          "data": {
            "text/plain": [
              "110"
            ]
          },
          "metadata": {},
          "execution_count": 8
        }
      ]
    },
    {
      "cell_type": "code",
      "source": [
        "#w.a.p to accept n items in a list and to find the sum of all the items\n",
        "n=int(input(\"Enter the value of n:\"))\n",
        "L=[0]*n\n",
        "for i in range(n):\n",
        "  L[i]=int(input(\"Enter the item for list:\"))\n",
        "s=0\n",
        "for i in range(n):\n",
        "  s=s+L[i]\n",
        "print(s)\n",
        "m=s/n\n",
        "print(\"Mean:\",m)"
      ],
      "metadata": {
        "id": "-YYYmRxGOvfX",
        "colab": {
          "base_uri": "https://localhost:8080/"
        },
        "outputId": "c3b6ba88-a534-4616-a000-7b88e0778572"
      },
      "execution_count": null,
      "outputs": [
        {
          "output_type": "stream",
          "name": "stdout",
          "text": [
            "Enter the value of n:3\n",
            "Enter the item for list:3\n",
            "Enter the item for list:3\n",
            "Enter the item for list:3\n",
            "9\n",
            "Mean: 3.0\n"
          ]
        }
      ]
    },
    {
      "cell_type": "code",
      "source": [
        "s=eval(input(\"Enter the value:\"))\n",
        "print(s,\"it's type=\",type(s))"
      ],
      "metadata": {
        "colab": {
          "base_uri": "https://localhost:8080/"
        },
        "id": "twTvopLElR24",
        "outputId": "73d9bd48-06ef-44f9-e1da-dc41deaaa27a"
      },
      "execution_count": null,
      "outputs": [
        {
          "output_type": "stream",
          "name": "stdout",
          "text": [
            "Enter the value:(1,1,1,1)\n",
            "(1, 1, 1, 1) it's type= <class 'tuple'>\n"
          ]
        }
      ]
    },
    {
      "cell_type": "code",
      "source": [
        "l=[10,20,30,12]\n",
        "n=int(input(\"enter n:\"))\n",
        "l.append(n)\n",
        "print(l)"
      ],
      "metadata": {
        "id": "EXKDmrYeoySn",
        "colab": {
          "base_uri": "https://localhost:8080/"
        },
        "outputId": "99e972c0-ce90-474a-e64f-23cded46abfb"
      },
      "execution_count": null,
      "outputs": [
        {
          "output_type": "stream",
          "name": "stdout",
          "text": [
            "enter n:23\n",
            "[10, 20, 30, 12, 23]\n"
          ]
        }
      ]
    },
    {
      "cell_type": "code",
      "source": [
        "ls=['java','python','c++']\n",
        "ls[2:-1]\n",
        "print(ls)"
      ],
      "metadata": {
        "colab": {
          "base_uri": "https://localhost:8080/"
        },
        "id": "0OrErRVT_3TY",
        "outputId": "6b299cd0-6f00-4e6e-aed4-f4b6d1a867cd"
      },
      "execution_count": null,
      "outputs": [
        {
          "output_type": "stream",
          "name": "stdout",
          "text": [
            "['java', 'python', 'c++']\n"
          ]
        }
      ]
    },
    {
      "cell_type": "code",
      "source": [
        "#wap to accept values for 3x3 matrix:\n",
        "l=[[0,0,0],[0,0,0],[0,0,0]]\n",
        "for i in range(3):\n",
        "  for j in range(3):\n",
        "    print('enter the value of (',i,\",\",j,\")\")\n",
        "    l[i][j]=int(input())\n",
        "for i in range(3):\n",
        "  for j in range(3):\n",
        "    print(l[i][j],end=\" \")\n",
        "  print(\"\\n\")"
      ],
      "metadata": {
        "id": "uNWi9MtVvmuP",
        "colab": {
          "base_uri": "https://localhost:8080/"
        },
        "outputId": "5be30b24-ab1a-47bf-cc2a-688f220bdd5d"
      },
      "execution_count": null,
      "outputs": [
        {
          "output_type": "stream",
          "name": "stdout",
          "text": [
            "enter the value of ( 0 , 0 )\n",
            "1\n",
            "enter the value of ( 0 , 1 )\n",
            "2\n",
            "enter the value of ( 0 , 2 )\n",
            "3\n",
            "enter the value of ( 1 , 0 )\n",
            "4\n",
            "enter the value of ( 1 , 1 )\n",
            "5\n",
            "enter the value of ( 1 , 2 )\n",
            "6\n",
            "enter the value of ( 2 , 0 )\n",
            "7\n",
            "enter the value of ( 2 , 1 )\n",
            "8\n",
            "enter the value of ( 2 , 2 )\n",
            "9\n",
            "1 2 3 \n",
            "\n",
            "4 5 6 \n",
            "\n",
            "7 8 9 \n",
            "\n"
          ]
        }
      ]
    },
    {
      "cell_type": "code",
      "source": [
        "l=[i for i in range(1,10)] \n",
        "print(l)"
      ],
      "metadata": {
        "id": "XP1XgRxc9ZQo",
        "colab": {
          "base_uri": "https://localhost:8080/"
        },
        "outputId": "3f0c8701-2513-40e0-b4e7-fa6ee36183ae"
      },
      "execution_count": null,
      "outputs": [
        {
          "output_type": "stream",
          "name": "stdout",
          "text": [
            "[1, 2, 3, 4, 5, 6, 7, 8, 9]\n"
          ]
        }
      ]
    },
    {
      "cell_type": "code",
      "source": [
        "l=[i**2 for i in range(1,6)]\n",
        "print(l)"
      ],
      "metadata": {
        "colab": {
          "base_uri": "https://localhost:8080/"
        },
        "id": "o8hqJ5uzyPiI",
        "outputId": "b4941e18-bf5c-46e3-ba7e-5eca2c67edcd"
      },
      "execution_count": null,
      "outputs": [
        {
          "output_type": "stream",
          "name": "stdout",
          "text": [
            "[1, 4, 9, 16, 25]\n"
          ]
        }
      ]
    },
    {
      "cell_type": "code",
      "source": [
        "x='hello'\n",
        "l2=[i.upper() for i in x]\n",
        "print(l2)"
      ],
      "metadata": {
        "colab": {
          "base_uri": "https://localhost:8080/"
        },
        "id": "fcOdoy5pzj_-",
        "outputId": "9c5532c9-6fb4-4489-8997-747bf81712a4"
      },
      "execution_count": null,
      "outputs": [
        {
          "output_type": "stream",
          "name": "stdout",
          "text": [
            "['H', 'E', 'L', 'L', 'O']\n"
          ]
        }
      ]
    },
    {
      "cell_type": "code",
      "source": [
        "l=[i*7 for i in range(1,8)]\n",
        "print(l)"
      ],
      "metadata": {
        "colab": {
          "base_uri": "https://localhost:8080/"
        },
        "id": "giFaOsjw090X",
        "outputId": "ab26c438-abbd-41bd-d922-e47bcbe1e16a"
      },
      "execution_count": null,
      "outputs": [
        {
          "output_type": "stream",
          "name": "stdout",
          "text": [
            "[7, 14, 21, 28, 35, 42, 49]\n"
          ]
        }
      ]
    },
    {
      "cell_type": "code",
      "source": [
        "f={}\n",
        "l=['a','b','c','a','c']\n",
        "for index in l:\n",
        "  if index in f:\n",
        "    f[index]+=1\n",
        "  else:\n",
        "    f[index]=1\n",
        "print(len(f))\n",
        "print(f)"
      ],
      "metadata": {
        "colab": {
          "base_uri": "https://localhost:8080/"
        },
        "id": "UkBVdiaN3r-w",
        "outputId": "c5474c87-a5a8-42d1-cd9d-8af8df5f60c5"
      },
      "execution_count": null,
      "outputs": [
        {
          "output_type": "stream",
          "name": "stdout",
          "text": [
            "3\n",
            "{'a': 2, 'b': 1, 'c': 2}\n"
          ]
        }
      ]
    },
    {
      "cell_type": "code",
      "source": [
        "d={'a':'python','b':'java','c':'c++'}\n",
        "mylist=d.items()\n",
        "for i in mylist:\n",
        "  print(i)"
      ],
      "metadata": {
        "id": "XvtnYkerXXOf",
        "colab": {
          "base_uri": "https://localhost:8080/"
        },
        "outputId": "623db13f-0ca9-46d2-ac2e-996ead77d690"
      },
      "execution_count": null,
      "outputs": [
        {
          "output_type": "stream",
          "name": "stdout",
          "text": [
            "('a', 'python')\n",
            "('b', 'java')\n",
            "('c', 'c++')\n"
          ]
        }
      ]
    },
    {
      "cell_type": "code",
      "source": [
        "#W.a.p to find the 5 letter words in the given sting, in a list:\n",
        "s=\"This is computer class There are ten students\"\n",
        "L1=[]\n",
        "L=[]\n",
        "L=s.split()\n",
        "for i in L:\n",
        "  if len(i)==5:\n",
        "    L1.append(i)\n",
        "print(\"op:\",L1)"
      ],
      "metadata": {
        "id": "TvMlzDu5HeRI",
        "colab": {
          "base_uri": "https://localhost:8080/"
        },
        "outputId": "6cd3d297-bec6-4b1c-8dfc-ff7563d74a75"
      },
      "execution_count": null,
      "outputs": [
        {
          "output_type": "stream",
          "name": "stdout",
          "text": [
            "op: ['class', 'There']\n"
          ]
        }
      ]
    },
    {
      "cell_type": "code",
      "source": [
        "#w.a.p to accept a list where each item is a sentence and show sentences beginning with 'T' :\n",
        "l1=[]\n",
        "l=[]\n",
        "l=[input(\"enter l:\")]\n",
        "for i in range(len(l)):\n",
        "  if l[i][0]=='T' or l[i][0]=='t':\n",
        "    print(l[i])"
      ],
      "metadata": {
        "colab": {
          "base_uri": "https://localhost:8080/"
        },
        "id": "9IGdholsbetK",
        "outputId": "6e39cd31-e871-4dcd-a653-548301dad5d6"
      },
      "execution_count": null,
      "outputs": [
        {
          "name": "stdout",
          "output_type": "stream",
          "text": [
            "enter l:hellothere\n"
          ]
        }
      ]
    },
    {
      "cell_type": "code",
      "source": [
        "#accept email ids of n no. of students and create two tuples that one contains username and other domain name:\n",
        "L1=[]\n",
        "L=[]\n",
        "tu=()\n",
        "td=()\n",
        "n=int(input(\"enter the no. of students\"))\n",
        "for i in range(n):\n",
        "  email=input(\"Enter the email id\")\n",
        "  L.append(email)\n",
        "for i in L:\n",
        "  L1=i.split('@')\n",
        "  tu=tu+(L1[0],)\n",
        "  td=td+(L1[1],)\n",
        "print(tu,td)"
      ],
      "metadata": {
        "id": "kTswNyt2fqci",
        "colab": {
          "base_uri": "https://localhost:8080/"
        },
        "outputId": "bf0674b4-49ed-4bc7-aea0-25bd1f65a63b"
      },
      "execution_count": null,
      "outputs": [
        {
          "output_type": "stream",
          "name": "stdout",
          "text": [
            "enter the no. of students3\n",
            "Enter the email idjoe@gmail.com\n",
            "Enter the email idjoe5@gmail.com\n",
            "Enter the email idjo4444e@gmail.com\n",
            "('joe', 'joe5', 'jo4444e') ('gmail.com', 'gmail.com', 'gmail.com')\n"
          ]
        }
      ]
    },
    {
      "cell_type": "code",
      "source": [
        "#annual exam questions(21-22):\n",
        "#1:\n",
        "l=[3,4,5,6]\n",
        "for i in l:\n",
        "  if i%2==0:\n",
        "    print('*',i-1,sep='$',end='+')\n",
        "  elif i%3==0:\n",
        "    print(2+i*2,end='_')\n",
        "  else:\n",
        "    print(i,end='!')"
      ],
      "metadata": {
        "id": "sScvZPJ7pmAU",
        "colab": {
          "base_uri": "https://localhost:8080/"
        },
        "outputId": "faf1f23f-be77-4f5f-edd3-ab6b175cb27e"
      },
      "execution_count": null,
      "outputs": [
        {
          "output_type": "stream",
          "name": "stdout",
          "text": [
            "8_*$3+5!*$5+"
          ]
        }
      ]
    },
    {
      "cell_type": "code",
      "source": [
        "#2:\n",
        "c={1:'may',2:'june',3:'july'}\n",
        "c.items()"
      ],
      "metadata": {
        "colab": {
          "base_uri": "https://localhost:8080/"
        },
        "id": "WvuJvPHLtnFi",
        "outputId": "2c4af56d-8df6-4caa-ae50-d955550d3dd7"
      },
      "execution_count": null,
      "outputs": [
        {
          "output_type": "execute_result",
          "data": {
            "text/plain": [
              "dict_items([(1, 'may'), (2, 'june'), (3, 'july')])"
            ]
          },
          "metadata": {},
          "execution_count": 2
        }
      ]
    },
    {
      "cell_type": "code",
      "source": [
        "#read an integer and print the no. of digits in it and print the reverse of it. Print the sum of all even digits and sum of all digits\n",
        "n=int(input(\"Enter the digits:\"))\n",
        "m=str(n)\n",
        "print(len(m))\n",
        "print(m[::-1])\n",
        "se=so=0\n",
        "while n>0:\n",
        "  r=n%10\n",
        "  if r%2==0:\n",
        "    se=se+r\n",
        "  else:\n",
        "    so=so+r\n",
        "  n=n//10\n",
        "print(\"sum of even no.:\",se,\"\\nsum of odd no.:\",so)"
      ],
      "metadata": {
        "colab": {
          "base_uri": "https://localhost:8080/"
        },
        "id": "kqxNdFAn6AlZ",
        "outputId": "85f5bda7-958f-4ad8-f94b-37570019bdce"
      },
      "execution_count": null,
      "outputs": [
        {
          "output_type": "stream",
          "name": "stdout",
          "text": [
            "Enter the digits:1234\n",
            "4\n",
            "4321\n",
            "sum of even no.: 6 \n",
            "sum of odd no.: 4\n"
          ]
        }
      ]
    },
    {
      "cell_type": "code",
      "source": [
        "# Harshad Number\n",
        "number = int(input('Enter number: '))\n",
        "copy = number\n",
        "digit_sum = 0\n",
        "while number:\n",
        "    digit_sum += number%10\n",
        "    number //= 10\n",
        "if copy%digit_sum == 0:\n",
        "    print('%d is Harshad Number' % (copy))\n",
        "else:\n",
        "    print('%d is Not Harshad Number' % (copy))"
      ],
      "metadata": {
        "id": "273UUpW9-fP1",
        "colab": {
          "base_uri": "https://localhost:8080/"
        },
        "outputId": "06fef99f-f621-4b32-ac38-0e4b2dc60b66"
      },
      "execution_count": null,
      "outputs": [
        {
          "output_type": "stream",
          "name": "stdout",
          "text": [
            "Enter number: 153\n",
            "153 is Harshad Number\n"
          ]
        }
      ]
    }
  ]
}